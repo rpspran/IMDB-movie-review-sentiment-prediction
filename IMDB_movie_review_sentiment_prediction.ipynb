{
  "nbformat": 4,
  "nbformat_minor": 0,
  "metadata": {
    "colab": {
      "name": "IMDB movie-review sentiment-prediction.ipynb",
      "provenance": [],
      "collapsed_sections": []
    },
    "kernelspec": {
      "name": "python3",
      "display_name": "Python 3"
    }
  },
  "cells": [
    {
      "cell_type": "markdown",
      "metadata": {
        "id": "Rp1EvnuKx3Cr"
      },
      "source": [
        "The IMDB dataset is a set of 50,000 highly polarized reviews from the Internet Movie Database. They’re split into 25,000 reviews for training and 25,000 reviews for validation, each set consisting of 50% negative and 50% positive reviews.\n",
        "\n",
        "It has already been preprocessed: the reviews (sequences of words) have been turned into sequences of integers, where each integer stands for a specific word in a dictionary.\n",
        "\n",
        "The problem statement is to get a reasonably good prediction of the review for a the validation data based on the Machine learning from the training data\n",
        "\n",
        "In this notebook the attempts of using different neural network architecture are presented:\n",
        "\n",
        "1) Recurrent Neural network\n",
        "\n",
        "2) Long Short-term memory (to capture long-term memory dependencies)\n",
        "\n",
        "3) Bi-directional Recurrent Neural Network and Bi-directional Long Short-term memory"
      ]
    },
    {
      "cell_type": "code",
      "metadata": {
        "id": "GVt25n7uNgFP"
      },
      "source": [
        "import keras\n",
        "\n",
        "from keras.models import Sequential\n",
        "from keras.layers import Flatten, Dense\n",
        "from keras.layers import Embedding, SimpleRNN"
      ],
      "execution_count": null,
      "outputs": []
    },
    {
      "cell_type": "code",
      "metadata": {
        "id": "rEj0kZS_SeOe"
      },
      "source": [
        "#RNN illustration of model summary and return_sequence = True"
      ],
      "execution_count": null,
      "outputs": []
    },
    {
      "cell_type": "code",
      "metadata": {
        "id": "IxHrc-wkSgXb",
        "colab": {
          "base_uri": "https://localhost:8080/"
        },
        "outputId": "2b47053c-ecee-4567-966b-0f43d3a726ff"
      },
      "source": [
        "model = Sequential()\n",
        "model.add(Embedding(10000,32))\n",
        "model.add(SimpleRNN(32))\n",
        "model.summary()\n",
        "\n",
        "#The embedding matrix if its weights have to be initialized\n",
        "#The embedding matrix is of sha (no of words it's encoding for, dimension of each word)\n",
        "\n",
        "\n",
        "\n",
        "#input to the embedding layer is (samples, maxlen(of the no of words))\n",
        "#embedding has dimensions, 10000 (no of words it is emebedding for) , dimension of each word, input_shape = maxlen(optional)\n",
        "#embedding gives out the output of (,maxlen, dimension)\n",
        "#RNN takes as input (num_batches, timesteps, input_features)\n",
        "#RNN gives out output(num_batches, output_value) if the return_sequence is not explicitly mentioned to be True"
      ],
      "execution_count": null,
      "outputs": [
        {
          "output_type": "stream",
          "text": [
            "Model: \"sequential\"\n",
            "_________________________________________________________________\n",
            "Layer (type)                 Output Shape              Param #   \n",
            "=================================================================\n",
            "embedding (Embedding)        (None, None, 32)          320000    \n",
            "_________________________________________________________________\n",
            "simple_rnn (SimpleRNN)       (None, 32)                2080      \n",
            "=================================================================\n",
            "Total params: 322,080\n",
            "Trainable params: 322,080\n",
            "Non-trainable params: 0\n",
            "_________________________________________________________________\n"
          ],
          "name": "stdout"
        }
      ]
    },
    {
      "cell_type": "code",
      "metadata": {
        "id": "436zbZBdS1FH",
        "colab": {
          "base_uri": "https://localhost:8080/"
        },
        "outputId": "ce7d361d-8c38-4651-9fec-8ebaff1d66e1"
      },
      "source": [
        "model = Sequential()\n",
        "model.add(Embedding(10000,32))\n",
        "model.add(SimpleRNN(32, return_sequences=True))\n",
        "model.summary()\n",
        "#RNN gives out output(num_batches, timesteps, output_value) if the return_sequence is  explicitly mentioned to be True"
      ],
      "execution_count": null,
      "outputs": [
        {
          "output_type": "stream",
          "text": [
            "Model: \"sequential_1\"\n",
            "_________________________________________________________________\n",
            "Layer (type)                 Output Shape              Param #   \n",
            "=================================================================\n",
            "embedding_1 (Embedding)      (None, None, 32)          320000    \n",
            "_________________________________________________________________\n",
            "simple_rnn_1 (SimpleRNN)     (None, None, 32)          2080      \n",
            "=================================================================\n",
            "Total params: 322,080\n",
            "Trainable params: 322,080\n",
            "Non-trainable params: 0\n",
            "_________________________________________________________________\n"
          ],
          "name": "stdout"
        }
      ]
    },
    {
      "cell_type": "code",
      "metadata": {
        "id": "XRu8451nTh-R",
        "colab": {
          "base_uri": "https://localhost:8080/"
        },
        "outputId": "dd028d9d-c6fe-4394-b21d-ab6442aa08db"
      },
      "source": [
        "model = Sequential()\n",
        "model.add(Embedding(10000,32))\n",
        "model.add(SimpleRNN(32,return_sequences=True ))\n",
        "model.add(SimpleRNN(32,return_sequences=True ))\n",
        "model.add(SimpleRNN(32,return_sequences=True ))\n",
        "model.add(SimpleRNN(32))\n",
        "model.summary()"
      ],
      "execution_count": null,
      "outputs": [
        {
          "output_type": "stream",
          "text": [
            "Model: \"sequential_2\"\n",
            "_________________________________________________________________\n",
            "Layer (type)                 Output Shape              Param #   \n",
            "=================================================================\n",
            "embedding_2 (Embedding)      (None, None, 32)          320000    \n",
            "_________________________________________________________________\n",
            "simple_rnn_2 (SimpleRNN)     (None, None, 32)          2080      \n",
            "_________________________________________________________________\n",
            "simple_rnn_3 (SimpleRNN)     (None, None, 32)          2080      \n",
            "_________________________________________________________________\n",
            "simple_rnn_4 (SimpleRNN)     (None, None, 32)          2080      \n",
            "_________________________________________________________________\n",
            "simple_rnn_5 (SimpleRNN)     (None, 32)                2080      \n",
            "=================================================================\n",
            "Total params: 328,320\n",
            "Trainable params: 328,320\n",
            "Non-trainable params: 0\n",
            "_________________________________________________________________\n"
          ],
          "name": "stdout"
        }
      ]
    },
    {
      "cell_type": "code",
      "metadata": {
        "id": "9StwviDlTz5Y",
        "colab": {
          "base_uri": "https://localhost:8080/"
        },
        "outputId": "86e774cf-5886-4ba5-e7a7-90f7c0c54448"
      },
      "source": [
        "\n",
        "from keras.datasets import imdb\n",
        "from keras.preprocessing import sequence\n",
        "\n",
        "max_features = 10000\n",
        "maxlen = 500\n",
        "batch_size = 32\n",
        "\n",
        "print('Loading data...')\n",
        "(input_train, y_train), (input_test, y_test) = imdb.load_data(\n",
        "     num_words=max_features)\n",
        "print(len(input_train), 'train sequences')\n",
        "print(len(input_test), 'test sequences')"
      ],
      "execution_count": null,
      "outputs": [
        {
          "output_type": "stream",
          "text": [
            "Loading data...\n",
            "Downloading data from https://storage.googleapis.com/tensorflow/tf-keras-datasets/imdb.npz\n",
            "17465344/17464789 [==============================] - 0s 0us/step\n"
          ],
          "name": "stdout"
        },
        {
          "output_type": "stream",
          "text": [
            "<string>:6: VisibleDeprecationWarning: Creating an ndarray from ragged nested sequences (which is a list-or-tuple of lists-or-tuples-or ndarrays with different lengths or shapes) is deprecated. If you meant to do this, you must specify 'dtype=object' when creating the ndarray\n",
            "/usr/local/lib/python3.6/dist-packages/tensorflow/python/keras/datasets/imdb.py:159: VisibleDeprecationWarning: Creating an ndarray from ragged nested sequences (which is a list-or-tuple of lists-or-tuples-or ndarrays with different lengths or shapes) is deprecated. If you meant to do this, you must specify 'dtype=object' when creating the ndarray\n",
            "  x_train, y_train = np.array(xs[:idx]), np.array(labels[:idx])\n"
          ],
          "name": "stderr"
        },
        {
          "output_type": "stream",
          "text": [
            "25000 train sequences\n",
            "25000 test sequences\n"
          ],
          "name": "stdout"
        },
        {
          "output_type": "stream",
          "text": [
            "/usr/local/lib/python3.6/dist-packages/tensorflow/python/keras/datasets/imdb.py:160: VisibleDeprecationWarning: Creating an ndarray from ragged nested sequences (which is a list-or-tuple of lists-or-tuples-or ndarrays with different lengths or shapes) is deprecated. If you meant to do this, you must specify 'dtype=object' when creating the ndarray\n",
            "  x_test, y_test = np.array(xs[idx:]), np.array(labels[idx:])\n"
          ],
          "name": "stderr"
        }
      ]
    },
    {
      "cell_type": "code",
      "metadata": {
        "id": "_vI6R9tMT_n4",
        "colab": {
          "base_uri": "https://localhost:8080/"
        },
        "outputId": "f45a5898-c3f3-48e1-9dab-927abac6f079"
      },
      "source": [
        "print('Pad sequences (samples x time)')\n",
        "input_train = sequence.pad_sequences(input_train, maxlen=maxlen)\n",
        "input_test = sequence.pad_sequences(input_test, maxlen=maxlen)"
      ],
      "execution_count": null,
      "outputs": [
        {
          "output_type": "stream",
          "text": [
            "Pad sequences (samples x time)\n"
          ],
          "name": "stdout"
        }
      ]
    },
    {
      "cell_type": "code",
      "metadata": {
        "id": "n4rWMQcYUCUg",
        "colab": {
          "base_uri": "https://localhost:8080/"
        },
        "outputId": "79787f75-5429-46ed-87d1-e7a18c91a88c"
      },
      "source": [
        "print('input_train shape:', input_train.shape)\n",
        "print('input_test shape:', input_test.shape)"
      ],
      "execution_count": null,
      "outputs": [
        {
          "output_type": "stream",
          "text": [
            "input_train shape: (25000, 500)\n",
            "input_test shape: (25000, 500)\n"
          ],
          "name": "stdout"
        }
      ]
    },
    {
      "cell_type": "code",
      "metadata": {
        "id": "oJjidN2oUEOR"
      },
      "source": [
        "# MODEL - 1 : Running an RNN network\n",
        "\n",
        "from keras.layers import Dense\n",
        "\n",
        "model = Sequential()\n",
        "model.add(Embedding(max_features, 32))\n",
        "model.add(SimpleRNN(32))\n",
        "model.add(Dense(1, activation='sigmoid'))"
      ],
      "execution_count": null,
      "outputs": []
    },
    {
      "cell_type": "code",
      "metadata": {
        "id": "DhFyUytBUWab",
        "colab": {
          "base_uri": "https://localhost:8080/"
        },
        "outputId": "7f4722fd-3915-4526-937e-144d2100e308"
      },
      "source": [
        "model.compile(optimizer='rmsprop', loss='binary_crossentropy', metrics=['acc'])\n",
        "history = model.fit(input_train, y_train, epochs=10, batch_size=128, validation_split=0.2)"
      ],
      "execution_count": null,
      "outputs": [
        {
          "output_type": "stream",
          "text": [
            "Epoch 1/10\n",
            "157/157 [==============================] - 23s 142ms/step - loss: 0.6743 - acc: 0.5657 - val_loss: 0.4696 - val_acc: 0.7998\n",
            "Epoch 2/10\n",
            "157/157 [==============================] - 21s 134ms/step - loss: 0.4158 - acc: 0.8276 - val_loss: 0.3724 - val_acc: 0.8386\n",
            "Epoch 3/10\n",
            "157/157 [==============================] - 21s 133ms/step - loss: 0.2885 - acc: 0.8865 - val_loss: 0.3921 - val_acc: 0.8546\n",
            "Epoch 4/10\n",
            "157/157 [==============================] - 21s 133ms/step - loss: 0.2642 - acc: 0.8969 - val_loss: 0.5264 - val_acc: 0.8002\n",
            "Epoch 5/10\n",
            "157/157 [==============================] - 21s 133ms/step - loss: 0.2354 - acc: 0.9110 - val_loss: 0.4851 - val_acc: 0.8358\n",
            "Epoch 6/10\n",
            "157/157 [==============================] - 21s 134ms/step - loss: 0.1875 - acc: 0.9303 - val_loss: 0.3498 - val_acc: 0.8660\n",
            "Epoch 7/10\n",
            "157/157 [==============================] - 22s 137ms/step - loss: 0.1631 - acc: 0.9409 - val_loss: 0.4074 - val_acc: 0.8344\n",
            "Epoch 8/10\n",
            "157/157 [==============================] - 21s 137ms/step - loss: 0.1413 - acc: 0.9499 - val_loss: 0.4798 - val_acc: 0.8474\n",
            "Epoch 9/10\n",
            "157/157 [==============================] - 21s 136ms/step - loss: 0.1153 - acc: 0.9597 - val_loss: 0.4301 - val_acc: 0.8608\n",
            "Epoch 10/10\n",
            "157/157 [==============================] - 21s 135ms/step - loss: 0.0915 - acc: 0.9703 - val_loss: 0.5029 - val_acc: 0.7790\n"
          ],
          "name": "stdout"
        }
      ]
    },
    {
      "cell_type": "code",
      "metadata": {
        "id": "JSA5PnimUajX",
        "colab": {
          "base_uri": "https://localhost:8080/",
          "height": 545
        },
        "outputId": "8d425d25-d2a3-4b2b-a029-8de3bfc51178"
      },
      "source": [
        "import matplotlib.pyplot as plt\n",
        "acc = history.history['acc']\n",
        "val_acc = history.history['val_acc']\n",
        "loss = history.history['loss']\n",
        "val_loss = history.history['val_loss']\n",
        "epochs = range(1, len(acc) + 1)\n",
        "plt.plot(epochs, acc, 'bo', label='Training acc')\n",
        "plt.plot(epochs, val_acc, 'b', label='Validation acc')\n",
        "\n",
        "plt.title('Training and validation accuracy')\n",
        "plt.legend()\n",
        "plt.figure()\n",
        "plt.plot(epochs, loss, 'bo', label='Training loss')\n",
        "plt.plot(epochs, val_loss, 'b', label='Validation loss')\n",
        "plt.title('Training and validation loss')\n",
        "plt.legend()\n",
        "plt.show()"
      ],
      "execution_count": null,
      "outputs": [
        {
          "output_type": "display_data",
          "data": {
            "image/png": "[encoded data removed]",
            "text/plain": [
              "<Figure size 432x288 with 1 Axes>"
            ]
          },
          "metadata": {
            "tags": [],
            "needs_background": "light"
          }
        },
        {
          "output_type": "display_data",
          "data": {
            "image/png": "[encoded data removed]",
            "text/plain": [
              "<Figure size 432x288 with 1 Axes>"
            ]
          },
          "metadata": {
            "tags": [],
            "needs_background": "light"
          }
        }
      ]
    },
    {
      "cell_type": "code",
      "metadata": {
        "id": "6_Lk7whlUp3f"
      },
      "source": [
        ""
      ],
      "execution_count": null,
      "outputs": []
    },
    {
      "cell_type": "code",
      "metadata": {
        "id": "FHNkt3zWUqAE",
        "colab": {
          "base_uri": "https://localhost:8080/"
        },
        "outputId": "e00f7f96-3a3a-4fbb-dfd4-a2cf2d1ab449"
      },
      "source": [
        "#MODEL - 2: RUNNING LSTM\n",
        "\n",
        "from keras.layers import LSTM\n",
        "model = Sequential()\n",
        "model.add(Embedding(max_features, 32))\n",
        "model.add(LSTM(32))\n",
        "model.add(Dense(1, activation='sigmoid'))\n",
        "model.compile(optimizer='rmsprop',\n",
        "              loss='binary_crossentropy',\n",
        "              metrics=['acc'])\n",
        "history = model.fit(input_train, y_train,\n",
        "                    epochs=10,\n",
        "                    batch_size=128,\n",
        "                    validation_split=0.2)"
      ],
      "execution_count": null,
      "outputs": [
        {
          "output_type": "stream",
          "text": [
            "Epoch 1/10\n",
            "157/157 [==============================] - 55s 337ms/step - loss: 0.6340 - acc: 0.6421 - val_loss: 0.7179 - val_acc: 0.7222\n",
            "Epoch 2/10\n",
            "157/157 [==============================] - 51s 323ms/step - loss: 0.3312 - acc: 0.8693 - val_loss: 0.3104 - val_acc: 0.8770\n",
            "Epoch 3/10\n",
            "157/157 [==============================] - 55s 353ms/step - loss: 0.2397 - acc: 0.9106 - val_loss: 0.2827 - val_acc: 0.8862\n",
            "Epoch 4/10\n",
            "157/157 [==============================] - 55s 352ms/step - loss: 0.1916 - acc: 0.9313 - val_loss: 0.4958 - val_acc: 0.8316\n",
            "Epoch 5/10\n",
            "157/157 [==============================] - 56s 355ms/step - loss: 0.1730 - acc: 0.9392 - val_loss: 0.2970 - val_acc: 0.8768\n",
            "Epoch 6/10\n",
            "157/157 [==============================] - 55s 352ms/step - loss: 0.1498 - acc: 0.9473 - val_loss: 0.3504 - val_acc: 0.8568\n",
            "Epoch 7/10\n",
            "157/157 [==============================] - 55s 353ms/step - loss: 0.1330 - acc: 0.9548 - val_loss: 0.3436 - val_acc: 0.8862\n",
            "Epoch 8/10\n",
            "157/157 [==============================] - 56s 357ms/step - loss: 0.1271 - acc: 0.9566 - val_loss: 0.3421 - val_acc: 0.8906\n",
            "Epoch 9/10\n",
            "157/157 [==============================] - 56s 354ms/step - loss: 0.1165 - acc: 0.9596 - val_loss: 0.4088 - val_acc: 0.8618\n",
            "Epoch 10/10\n",
            "157/157 [==============================] - 56s 355ms/step - loss: 0.1044 - acc: 0.9647 - val_loss: 0.3502 - val_acc: 0.8804\n"
          ],
          "name": "stdout"
        }
      ]
    },
    {
      "cell_type": "code",
      "metadata": {
        "id": "JcjVjLRqV4lq",
        "colab": {
          "base_uri": "https://localhost:8080/",
          "height": 545
        },
        "outputId": "ba8321ea-fb1f-491c-f6b4-c66f6007899a"
      },
      "source": [
        "import matplotlib.pyplot as plt\n",
        "acc = history.history['acc']\n",
        "val_acc = history.history['val_acc']\n",
        "loss = history.history['loss']\n",
        "val_loss = history.history['val_loss']\n",
        "epochs = range(1, len(acc) + 1)\n",
        "plt.plot(epochs, acc, 'bo', label='Training acc')\n",
        "plt.plot(epochs, val_acc, 'b', label='Validation acc')\n",
        "\n",
        "plt.title('Training and validation accuracy')\n",
        "plt.legend()\n",
        "plt.figure()\n",
        "plt.plot(epochs, loss, 'bo', label='Training loss')\n",
        "plt.plot(epochs, val_loss, 'b', label='Validation loss')\n",
        "plt.title('Training and validation loss')\n",
        "plt.legend()\n",
        "plt.show()"
      ],
      "execution_count": null,
      "outputs": [
        {
          "output_type": "display_data",
          "data": {
            "image/png": "[encoded data removed]",
            "text/plain": [
              "<Figure size 432x288 with 1 Axes>"
            ]
          },
          "metadata": {
            "tags": [],
            "needs_background": "light"
          }
        },
        {
          "output_type": "display_data",
          "data": {
            "image/png": "[encoded data removed]",
            "text/plain": [
              "<Figure size 432x288 with 1 Axes>"
            ]
          },
          "metadata": {
            "tags": [],
            "needs_background": "light"
          }
        }
      ]
    },
    {
      "cell_type": "code",
      "metadata": {
        "id": "drlnj73fY72K",
        "colab": {
          "base_uri": "https://localhost:8080/"
        },
        "outputId": "f1abfc56-8cc2-4c6d-ff9d-a7f18fd92408"
      },
      "source": [
        "#MODEL - 3 LSTM with reversed data\n",
        "from keras.datasets import imdb\n",
        "from keras.preprocessing import sequence\n",
        "\n",
        "max_features = 10000\n",
        "maxlen = 500\n",
        "batch_size = 32\n",
        "\n",
        "print('Loading data...')\n",
        "(x_train, y_train), (x_test, y_test) = imdb.load_data(num_words=max_features)\n",
        "\n",
        "x_train = [x[::-1] for x in x_train]\n",
        "x_test = [x[::-1] for x in x_test]\n",
        "\n",
        "x_train = sequence.pad_sequences(x_train, maxlen=maxlen)\n",
        "x_test = sequence.pad_sequences(x_test, maxlen=maxlen)\n",
        "\n",
        "print('input_train shape:', x_train.shape)\n",
        "print('input_test shape:', x_test.shape)"
      ],
      "execution_count": null,
      "outputs": [
        {
          "output_type": "stream",
          "text": [
            "Loading data...\n"
          ],
          "name": "stdout"
        },
        {
          "output_type": "stream",
          "text": [
            "<string>:6: VisibleDeprecationWarning: Creating an ndarray from ragged nested sequences (which is a list-or-tuple of lists-or-tuples-or ndarrays with different lengths or shapes) is deprecated. If you meant to do this, you must specify 'dtype=object' when creating the ndarray\n",
            "/usr/local/lib/python3.6/dist-packages/tensorflow/python/keras/datasets/imdb.py:159: VisibleDeprecationWarning: Creating an ndarray from ragged nested sequences (which is a list-or-tuple of lists-or-tuples-or ndarrays with different lengths or shapes) is deprecated. If you meant to do this, you must specify 'dtype=object' when creating the ndarray\n",
            "  x_train, y_train = np.array(xs[:idx]), np.array(labels[:idx])\n",
            "/usr/local/lib/python3.6/dist-packages/tensorflow/python/keras/datasets/imdb.py:160: VisibleDeprecationWarning: Creating an ndarray from ragged nested sequences (which is a list-or-tuple of lists-or-tuples-or ndarrays with different lengths or shapes) is deprecated. If you meant to do this, you must specify 'dtype=object' when creating the ndarray\n",
            "  x_test, y_test = np.array(xs[idx:]), np.array(labels[idx:])\n"
          ],
          "name": "stderr"
        },
        {
          "output_type": "stream",
          "text": [
            "input_train shape: (25000, 500)\n",
            "input_test shape: (25000, 500)\n"
          ],
          "name": "stdout"
        }
      ]
    },
    {
      "cell_type": "code",
      "metadata": {
        "id": "w3u9li8saKFg"
      },
      "source": [
        "from keras import layers"
      ],
      "execution_count": null,
      "outputs": []
    },
    {
      "cell_type": "code",
      "metadata": {
        "id": "nGXhQgPWZ0SV",
        "colab": {
          "base_uri": "https://localhost:8080/"
        },
        "outputId": "e8f6be2f-fdc6-48ee-ed22-f96c606e10a6"
      },
      "source": [
        "model = Sequential()\n",
        "model.add(layers.Embedding(max_features, 128))\n",
        "model.add(layers.LSTM(32))\n",
        "model.add(layers.Dense(1, activation='sigmoid'))\n",
        "\n",
        "model.compile(optimizer='rmsprop',\n",
        "              loss='binary_crossentropy',\n",
        "              metrics=['acc'])\n",
        "\n",
        "history = model.fit(x_train, y_train,\n",
        "epochs=10, batch_size=128, validation_split=0.2)\n",
        "\n"
      ],
      "execution_count": null,
      "outputs": [
        {
          "output_type": "stream",
          "text": [
            "Epoch 1/10\n",
            "157/157 [==============================] - 72s 448ms/step - loss: 0.5894 - acc: 0.6727 - val_loss: 0.3956 - val_acc: 0.8338\n",
            "Epoch 2/10\n",
            "157/157 [==============================] - 74s 474ms/step - loss: 0.3134 - acc: 0.8784 - val_loss: 0.3428 - val_acc: 0.8618\n",
            "Epoch 3/10\n",
            "157/157 [==============================] - 74s 469ms/step - loss: 0.2529 - acc: 0.9094 - val_loss: 0.3834 - val_acc: 0.8322\n",
            "Epoch 4/10\n",
            "157/157 [==============================] - 74s 471ms/step - loss: 0.2113 - acc: 0.9244 - val_loss: 0.5179 - val_acc: 0.8272\n",
            "Epoch 5/10\n",
            "157/157 [==============================] - 74s 469ms/step - loss: 0.1967 - acc: 0.9309 - val_loss: 0.4861 - val_acc: 0.8500\n",
            "Epoch 6/10\n",
            "157/157 [==============================] - 74s 469ms/step - loss: 0.1630 - acc: 0.9435 - val_loss: 0.3759 - val_acc: 0.8640\n",
            "Epoch 7/10\n",
            "157/157 [==============================] - 74s 470ms/step - loss: 0.1345 - acc: 0.9533 - val_loss: 0.3798 - val_acc: 0.8656\n",
            "Epoch 8/10\n",
            "157/157 [==============================] - 73s 462ms/step - loss: 0.1186 - acc: 0.9593 - val_loss: 0.3936 - val_acc: 0.8754\n",
            "Epoch 9/10\n",
            "157/157 [==============================] - 73s 467ms/step - loss: 0.1131 - acc: 0.9623 - val_loss: 0.4017 - val_acc: 0.8686\n",
            "Epoch 10/10\n",
            "157/157 [==============================] - 73s 467ms/step - loss: 0.1165 - acc: 0.9604 - val_loss: 0.4118 - val_acc: 0.8508\n"
          ],
          "name": "stdout"
        }
      ]
    },
    {
      "cell_type": "code",
      "metadata": {
        "id": "_ODpexVWaGIq",
        "colab": {
          "base_uri": "https://localhost:8080/",
          "height": 545
        },
        "outputId": "77144d99-3f3f-467c-d22f-1590199b1228"
      },
      "source": [
        "#to revise plot after re-running above block\n",
        "import matplotlib.pyplot as plt\n",
        "acc = history.history['acc']\n",
        "val_acc = history.history['val_acc']\n",
        "loss = history.history['loss']\n",
        "val_loss = history.history['val_loss']\n",
        "epochs = range(1, len(acc) + 1)\n",
        "plt.plot(epochs, acc, 'bo', label='Training acc')\n",
        "plt.plot(epochs, val_acc, 'b', label='Validation acc')\n",
        "\n",
        "plt.title('Training and validation accuracy')\n",
        "plt.legend()\n",
        "plt.figure()\n",
        "plt.plot(epochs, loss, 'bo', label='Training loss')\n",
        "plt.plot(epochs, val_loss, 'b', label='Validation loss')\n",
        "plt.title('Training and validation loss')\n",
        "plt.legend()\n",
        "plt.show()"
      ],
      "execution_count": null,
      "outputs": [
        {
          "output_type": "display_data",
          "data": {
            "image/png": "[encoded data removed]",
            "text/plain": [
              "<Figure size 432x288 with 1 Axes>"
            ]
          },
          "metadata": {
            "tags": [],
            "needs_background": "light"
          }
        },
        {
          "output_type": "display_data",
          "data": {
            "image/png": "[encoded data removed]",
            "text/plain": [
              "<Figure size 432x288 with 1 Axes>"
            ]
          },
          "metadata": {
            "tags": [],
            "needs_background": "light"
          }
        }
      ]
    },
    {
      "cell_type": "code",
      "metadata": {
        "id": "gejda-33aYfU"
      },
      "source": [
        "#MODEL 4: BI-DIRECTIONAL NETWORK:\n",
        "#also just create and check how the LSTM network and Bidirectional lstm differ in the number of parameters\n",
        "model = Sequential()\n",
        "model.add(layers.Embedding(max_features, 32))\n",
        "model.add(layers.Bidirectional(layers.LSTM(32)))\n",
        "model.add(layers.Dense(1, activation='sigmoid'))"
      ],
      "execution_count": null,
      "outputs": []
    },
    {
      "cell_type": "code",
      "metadata": {
        "id": "6MN23WmDgJ1O",
        "colab": {
          "base_uri": "https://localhost:8080/"
        },
        "outputId": "399795bc-becf-497d-9dd5-296261269541"
      },
      "source": [
        "model.summary()"
      ],
      "execution_count": null,
      "outputs": [
        {
          "output_type": "stream",
          "text": [
            "Model: \"sequential_6\"\n",
            "_________________________________________________________________\n",
            "Layer (type)                 Output Shape              Param #   \n",
            "=================================================================\n",
            "embedding_6 (Embedding)      (None, None, 32)          320000    \n",
            "_________________________________________________________________\n",
            "bidirectional (Bidirectional (None, 64)                16640     \n",
            "_________________________________________________________________\n",
            "dense_3 (Dense)              (None, 1)                 65        \n",
            "=================================================================\n",
            "Total params: 336,705\n",
            "Trainable params: 336,705\n",
            "Non-trainable params: 0\n",
            "_________________________________________________________________\n"
          ],
          "name": "stdout"
        }
      ]
    },
    {
      "cell_type": "code",
      "metadata": {
        "id": "9Pz1cynHgL0v"
      },
      "source": [
        "model.compile(optimizer='rmsprop', loss='binary_crossentropy', metrics=['acc'])"
      ],
      "execution_count": null,
      "outputs": []
    },
    {
      "cell_type": "code",
      "metadata": {
        "id": "EtkG9G6YgOWz",
        "colab": {
          "base_uri": "https://localhost:8080/"
        },
        "outputId": "33c5e02b-914b-4778-985f-b5a0e1a57fa5"
      },
      "source": [
        "history = model.fit(x_train, y_train,\n",
        "epochs=10, batch_size=128, validation_split=0.2)"
      ],
      "execution_count": null,
      "outputs": [
        {
          "output_type": "stream",
          "text": [
            "Epoch 1/10\n",
            "157/157 [==============================] - 97s 601ms/step - loss: 0.6400 - acc: 0.6226 - val_loss: 0.4889 - val_acc: 0.7986\n",
            "Epoch 2/10\n",
            "157/157 [==============================] - 93s 591ms/step - loss: 0.4079 - acc: 0.8368 - val_loss: 0.3510 - val_acc: 0.8644\n",
            "Epoch 3/10\n",
            "157/157 [==============================] - 93s 592ms/step - loss: 0.3127 - acc: 0.8814 - val_loss: 0.3298 - val_acc: 0.8678\n",
            "Epoch 4/10\n",
            "157/157 [==============================] - 92s 586ms/step - loss: 0.2412 - acc: 0.9117 - val_loss: 0.3309 - val_acc: 0.8628\n",
            "Epoch 5/10\n",
            "157/157 [==============================] - 93s 594ms/step - loss: 0.2171 - acc: 0.9247 - val_loss: 0.3734 - val_acc: 0.8472\n",
            "Epoch 6/10\n",
            "157/157 [==============================] - 92s 589ms/step - loss: 0.1887 - acc: 0.9358 - val_loss: 0.6137 - val_acc: 0.8200\n",
            "Epoch 7/10\n",
            "157/157 [==============================] - 92s 587ms/step - loss: 0.1711 - acc: 0.9417 - val_loss: 0.4079 - val_acc: 0.8784\n",
            "Epoch 8/10\n",
            "157/157 [==============================] - 93s 591ms/step - loss: 0.1446 - acc: 0.9507 - val_loss: 0.3539 - val_acc: 0.8778\n",
            "Epoch 9/10\n",
            "157/157 [==============================] - 93s 594ms/step - loss: 0.1281 - acc: 0.9591 - val_loss: 0.3823 - val_acc: 0.8798\n",
            "Epoch 10/10\n",
            "157/157 [==============================] - 92s 586ms/step - loss: 0.1237 - acc: 0.9587 - val_loss: 0.5426 - val_acc: 0.8540\n"
          ],
          "name": "stdout"
        }
      ]
    },
    {
      "cell_type": "code",
      "metadata": {
        "id": "K_qt16glgQdf"
      },
      "source": [
        ""
      ],
      "execution_count": null,
      "outputs": []
    },
    {
      "cell_type": "code",
      "metadata": {
        "id": "L4a3Xl1phXCf",
        "colab": {
          "base_uri": "https://localhost:8080/",
          "height": 545
        },
        "outputId": "27bf2d01-2954-4a01-cadb-4c6d5c1cda73"
      },
      "source": [
        "#BIDIRECTIONAL RNN\n",
        "import matplotlib.pyplot as plt\n",
        "acc = history.history['acc']\n",
        "val_acc = history.history['val_acc']\n",
        "loss = history.history['loss']\n",
        "val_loss = history.history['val_loss']\n",
        "epochs = range(1, len(acc) + 1)\n",
        "plt.plot(epochs, acc, 'bo', label='Training acc')\n",
        "plt.plot(epochs, val_acc, 'b', label='Validation acc')\n",
        "\n",
        "plt.title('Training and validation accuracy')\n",
        "plt.legend()\n",
        "plt.figure()\n",
        "plt.plot(epochs, loss, 'bo', label='Training loss')\n",
        "plt.plot(epochs, val_loss, 'b', label='Validation loss')\n",
        "plt.title('Training and validation loss')\n",
        "plt.legend()\n",
        "plt.show()"
      ],
      "execution_count": null,
      "outputs": [
        {
          "output_type": "display_data",
          "data": {
            "image/png": "[encoded data removed]",
            "text/plain": [
              "<Figure size 432x288 with 1 Axes>"
            ]
          },
          "metadata": {
            "tags": [],
            "needs_background": "light"
          }
        },
        {
          "output_type": "display_data",
          "data": {
            "image/png": "[encoded data removed]",
            "text/plain": [
              "<Figure size 432x288 with 1 Axes>"
            ]
          },
          "metadata": {
            "tags": [],
            "needs_background": "light"
          }
        }
      ]
    },
    {
      "cell_type": "code",
      "metadata": {
        "id": "TepcHXkThmHJ",
        "colab": {
          "base_uri": "https://localhost:8080/"
        },
        "outputId": "bba44a6c-a9ba-4c9e-8a63-1627c68b3b1d"
      },
      "source": [
        "from keras.datasets import imdb\n",
        "from keras.preprocessing import sequence\n",
        "max_features = 10000\n",
        "max_len = 500\n",
        "print('Loading data...')\n",
        "(x_train, y_train), (x_test, y_test) = imdb.load_data(num_words=max_features)\n",
        "print(len(x_train), 'train sequences')\n",
        "print(len(x_test), 'test sequences')\n",
        "print('Pad sequences (samples x time)')\n",
        "x_train = sequence.pad_sequences(x_train, maxlen=max_len)\n",
        "x_test = sequence.pad_sequences(x_test, maxlen=max_len)\n",
        "print('x_train shape:', x_train.shape)\n",
        "print('x_test shape:', x_test.shape)"
      ],
      "execution_count": null,
      "outputs": [
        {
          "output_type": "stream",
          "text": [
            "Loading data...\n"
          ],
          "name": "stdout"
        },
        {
          "output_type": "stream",
          "text": [
            "<string>:6: VisibleDeprecationWarning: Creating an ndarray from ragged nested sequences (which is a list-or-tuple of lists-or-tuples-or ndarrays with different lengths or shapes) is deprecated. If you meant to do this, you must specify 'dtype=object' when creating the ndarray\n",
            "/usr/local/lib/python3.6/dist-packages/tensorflow/python/keras/datasets/imdb.py:159: VisibleDeprecationWarning: Creating an ndarray from ragged nested sequences (which is a list-or-tuple of lists-or-tuples-or ndarrays with different lengths or shapes) is deprecated. If you meant to do this, you must specify 'dtype=object' when creating the ndarray\n",
            "  x_train, y_train = np.array(xs[:idx]), np.array(labels[:idx])\n",
            "/usr/local/lib/python3.6/dist-packages/tensorflow/python/keras/datasets/imdb.py:160: VisibleDeprecationWarning: Creating an ndarray from ragged nested sequences (which is a list-or-tuple of lists-or-tuples-or ndarrays with different lengths or shapes) is deprecated. If you meant to do this, you must specify 'dtype=object' when creating the ndarray\n",
            "  x_test, y_test = np.array(xs[idx:]), np.array(labels[idx:])\n"
          ],
          "name": "stderr"
        },
        {
          "output_type": "stream",
          "text": [
            "25000 train sequences\n",
            "25000 test sequences\n",
            "Pad sequences (samples x time)\n",
            "x_train shape: (25000, 500)\n",
            "x_test shape: (25000, 500)\n"
          ],
          "name": "stdout"
        }
      ]
    },
    {
      "cell_type": "code",
      "metadata": {
        "id": "OM3tpM0TiARz",
        "colab": {
          "base_uri": "https://localhost:8080/"
        },
        "outputId": "8bfab321-e8c3-4ddb-b106-c23ba59840ca"
      },
      "source": [
        "from keras.models import Sequential\n",
        "from keras import layers\n",
        "from keras.optimizers import RMSprop\n",
        "model = Sequential()\n",
        "model.add(layers.Embedding(max_features, 128, input_length=max_len))\n",
        "model.add(layers.Conv1D(32, 7, activation='relu'))\n",
        "model.add(layers.MaxPooling1D(5))\n",
        "model.add(layers.Conv1D(32, 7, activation='relu'))\n",
        "model.add(layers.GlobalMaxPooling1D())\n",
        "model.add(layers.Dense(1, activation = 'sigmoid'))\n",
        "model.summary()"
      ],
      "execution_count": null,
      "outputs": [
        {
          "output_type": "stream",
          "text": [
            "Model: \"sequential_7\"\n",
            "_________________________________________________________________\n",
            "Layer (type)                 Output Shape              Param #   \n",
            "=================================================================\n",
            "embedding_7 (Embedding)      (None, 500, 128)          1280000   \n",
            "_________________________________________________________________\n",
            "conv1d (Conv1D)              (None, 494, 32)           28704     \n",
            "_________________________________________________________________\n",
            "max_pooling1d (MaxPooling1D) (None, 98, 32)            0         \n",
            "_________________________________________________________________\n",
            "conv1d_1 (Conv1D)            (None, 92, 32)            7200      \n",
            "_________________________________________________________________\n",
            "global_max_pooling1d (Global (None, 32)                0         \n",
            "_________________________________________________________________\n",
            "dense_4 (Dense)              (None, 1)                 33        \n",
            "=================================================================\n",
            "Total params: 1,315,937\n",
            "Trainable params: 1,315,937\n",
            "Non-trainable params: 0\n",
            "_________________________________________________________________\n"
          ],
          "name": "stdout"
        }
      ]
    },
    {
      "cell_type": "code",
      "metadata": {
        "id": "vsDGY-_siCuh",
        "colab": {
          "base_uri": "https://localhost:8080/"
        },
        "outputId": "56d9c2be-8d63-4305-a56a-d5ca264b5958"
      },
      "source": [
        "model.compile(optimizer=RMSprop(lr=1e-4),\n",
        "              loss='binary_crossentropy',\n",
        "              metrics=['acc'])\n",
        "history = model.fit(x_train, y_train,\n",
        "                    epochs=10,\n",
        "                    batch_size=128,\n",
        "                    validation_split=0.2)"
      ],
      "execution_count": null,
      "outputs": [
        {
          "output_type": "stream",
          "text": [
            "Epoch 1/10\n",
            "157/157 [==============================] - 66s 417ms/step - loss: 0.6928 - acc: 0.5060 - val_loss: 0.6909 - val_acc: 0.5818\n",
            "Epoch 2/10\n",
            "157/157 [==============================] - 65s 415ms/step - loss: 0.6863 - acc: 0.7221 - val_loss: 0.6837 - val_acc: 0.6624\n",
            "Epoch 3/10\n",
            "157/157 [==============================] - 65s 417ms/step - loss: 0.6732 - acc: 0.7578 - val_loss: 0.6521 - val_acc: 0.7580\n",
            "Epoch 4/10\n",
            "157/157 [==============================] - 65s 415ms/step - loss: 0.6283 - acc: 0.7902 - val_loss: 0.5649 - val_acc: 0.7852\n",
            "Epoch 5/10\n",
            "157/157 [==============================] - 65s 416ms/step - loss: 0.5194 - acc: 0.8322 - val_loss: 0.4426 - val_acc: 0.8284\n",
            "Epoch 6/10\n",
            "157/157 [==============================] - 65s 416ms/step - loss: 0.3954 - acc: 0.8548 - val_loss: 0.3690 - val_acc: 0.8454\n",
            "Epoch 7/10\n",
            "157/157 [==============================] - 65s 415ms/step - loss: 0.3208 - acc: 0.8803 - val_loss: 0.3371 - val_acc: 0.8582\n",
            "Epoch 8/10\n",
            "157/157 [==============================] - 65s 417ms/step - loss: 0.2749 - acc: 0.8938 - val_loss: 0.3218 - val_acc: 0.8588\n",
            "Epoch 9/10\n",
            "157/157 [==============================] - 65s 415ms/step - loss: 0.2469 - acc: 0.9043 - val_loss: 0.3149 - val_acc: 0.8642\n",
            "Epoch 10/10\n",
            "157/157 [==============================] - 65s 415ms/step - loss: 0.2267 - acc: 0.9147 - val_loss: 0.3102 - val_acc: 0.8692\n"
          ],
          "name": "stdout"
        }
      ]
    },
    {
      "cell_type": "code",
      "metadata": {
        "id": "BkGTqfmHiF9l",
        "colab": {
          "base_uri": "https://localhost:8080/",
          "height": 545
        },
        "outputId": "2242e44e-2517-4405-fef0-c47c0457b412"
      },
      "source": [
        "#1D Convolutional Network\n",
        "import matplotlib.pyplot as plt\n",
        "acc = history.history['acc']\n",
        "val_acc = history.history['val_acc']\n",
        "loss = history.history['loss']\n",
        "val_loss = history.history['val_loss']\n",
        "epochs = range(1, len(acc) + 1)\n",
        "plt.plot(epochs, acc, 'bo', label='Training acc')\n",
        "plt.plot(epochs, val_acc, 'b', label='Validation acc')\n",
        "\n",
        "plt.title('Training and validation accuracy')\n",
        "plt.legend()\n",
        "plt.figure()\n",
        "plt.plot(epochs, loss, 'bo', label='Training loss')\n",
        "plt.plot(epochs, val_loss, 'b', label='Validation loss')\n",
        "plt.title('Training and validation loss')\n",
        "plt.legend()\n",
        "plt.show()"
      ],
      "execution_count": null,
      "outputs": [
        {
          "output_type": "display_data",
          "data": {
            "image/png": "[encoded data removed]",
            "text/plain": [
              "<Figure size 432x288 with 1 Axes>"
            ]
          },
          "metadata": {
            "tags": [],
            "needs_background": "light"
          }
        },
        {
          "output_type": "display_data",
          "data": {
            "image/png": "[encoded data removed]",
            "text/plain": [
              "<Figure size 432x288 with 1 Axes>"
            ]
          },
          "metadata": {
            "tags": [],
            "needs_background": "light"
          }
        }
      ]
    },
    {
      "cell_type": "code",
      "metadata": {
        "id": "ymS-FkURk-zO",
        "colab": {
          "base_uri": "https://localhost:8080/"
        },
        "outputId": "14932521-34d8-43cd-be6e-216241f1951d"
      },
      "source": [
        "#LSTM model parameter summary\n",
        "#MODEL - 2: RUNNING LSTM\n",
        "\n",
        "from keras.layers import LSTM\n",
        "model = Sequential()\n",
        "model.add(Embedding(max_features, 32))\n",
        "model.add(LSTM(32))\n",
        "model.add(Dense(1, activation='sigmoid'))\n",
        "model.summary()"
      ],
      "execution_count": null,
      "outputs": [
        {
          "output_type": "stream",
          "text": [
            "Model: \"sequential_8\"\n",
            "_________________________________________________________________\n",
            "Layer (type)                 Output Shape              Param #   \n",
            "=================================================================\n",
            "embedding_8 (Embedding)      (None, None, 32)          320000    \n",
            "_________________________________________________________________\n",
            "lstm_3 (LSTM)                (None, 32)                8320      \n",
            "_________________________________________________________________\n",
            "dense_5 (Dense)              (None, 1)                 33        \n",
            "=================================================================\n",
            "Total params: 328,353\n",
            "Trainable params: 328,353\n",
            "Non-trainable params: 0\n",
            "_________________________________________________________________\n"
          ],
          "name": "stdout"
        }
      ]
    },
    {
      "cell_type": "code",
      "metadata": {
        "id": "JtY7nxaAlJhz",
        "colab": {
          "base_uri": "https://localhost:8080/"
        },
        "outputId": "87a41bec-4f77-4df2-c461-58730e873237"
      },
      "source": [
        "#Bidirectional LSTM model parameter summary\n",
        "#MODEL 4: BI-DIRECTIONAL NETWORK:  -- TOO LONG TO RE -RUN LATER\n",
        "#also just create and check how the LSTM network and Bidirectional lstm differ in the number of parameters\n",
        "model = Sequential()\n",
        "model.add(layers.Embedding(max_features, 32))\n",
        "model.add(layers.Bidirectional(layers.LSTM(32)))\n",
        "model.add(layers.Dense(1, activation='sigmoid'))\n",
        "\n",
        "model.summary()"
      ],
      "execution_count": null,
      "outputs": [
        {
          "output_type": "stream",
          "text": [
            "Model: \"sequential_9\"\n",
            "_________________________________________________________________\n",
            "Layer (type)                 Output Shape              Param #   \n",
            "=================================================================\n",
            "embedding_9 (Embedding)      (None, None, 32)          320000    \n",
            "_________________________________________________________________\n",
            "bidirectional_1 (Bidirection (None, 64)                16640     \n",
            "_________________________________________________________________\n",
            "dense_6 (Dense)              (None, 1)                 65        \n",
            "=================================================================\n",
            "Total params: 336,705\n",
            "Trainable params: 336,705\n",
            "Non-trainable params: 0\n",
            "_________________________________________________________________\n"
          ],
          "name": "stdout"
        }
      ]
    },
    {
      "cell_type": "code",
      "metadata": {
        "id": "Zx-BpA1-lQAJ"
      },
      "source": [
        ""
      ],
      "execution_count": null,
      "outputs": []
    }
  ]
}